{
 "cells": [
  {
   "cell_type": "code",
   "execution_count": 24,
   "metadata": {},
   "outputs": [],
   "source": [
    "# import the PDF reader\n",
    "import PyPDF2 as pdf\n",
    "import re"
   ]
  },
  {
   "cell_type": "code",
   "execution_count": 3,
   "metadata": {},
   "outputs": [
    {
     "name": "stdout",
     "output_type": "stream",
     "text": [
      "Writing sample.txt\n"
     ]
    }
   ],
   "source": [
    "%%writefile sample.txt\n",
    "This is the sample text"
   ]
  },
  {
   "cell_type": "code",
   "execution_count": 9,
   "metadata": {},
   "outputs": [
    {
     "data": {
      "text/plain": [
       "'C:\\\\Users\\\\Naren'"
      ]
     },
     "execution_count": 9,
     "metadata": {},
     "output_type": "execute_result"
    }
   ],
   "source": [
    "pwd"
   ]
  },
  {
   "cell_type": "code",
   "execution_count": 10,
   "metadata": {},
   "outputs": [
    {
     "data": {
      "text/plain": [
       "'This is the sample text'"
      ]
     },
     "execution_count": 10,
     "metadata": {},
     "output_type": "execute_result"
    }
   ],
   "source": [
    "f = open('sample.txt','r')\n",
    "text = f.read()\n",
    "text"
   ]
  },
  {
   "cell_type": "code",
   "execution_count": 14,
   "metadata": {},
   "outputs": [
    {
     "data": {
      "text/plain": [
       "0"
      ]
     },
     "execution_count": 14,
     "metadata": {},
     "output_type": "execute_result"
    }
   ],
   "source": [
    "f.seek(0)"
   ]
  },
  {
   "cell_type": "code",
   "execution_count": 15,
   "metadata": {},
   "outputs": [
    {
     "name": "stdout",
     "output_type": "stream",
     "text": [
      "['This is the sample text']\n"
     ]
    }
   ],
   "source": [
    "lines = f.readlines()\n",
    "print(lines)\n",
    "f.close()"
   ]
  },
  {
   "cell_type": "code",
   "execution_count": 32,
   "metadata": {},
   "outputs": [
    {
     "name": "stdout",
     "output_type": "stream",
     "text": [
      "number of pages : 31\n"
     ]
    }
   ],
   "source": [
    "# create a pdf object using open method and the mode should be rnb for read and wb for right\n",
    "\n",
    "file = open(r\"C:\\Users\\Naren\\Desktop\\research papers\\CNN.pdf\", mode= 'rb')\n",
    "pdf_reader = pdf.PdfFileReader(file)\n",
    "num_of_Pages = pdf_reader.numPages\n",
    "print(f\"number of pages : {num_of_Pages}\")\n",
    "\n",
    "# get the first page and read the content, Index of the page starts from 0\n",
    "page1 = pdf_reader.getPage(0)\n",
    "text = page1.extractText()"
   ]
  },
  {
   "cell_type": "code",
   "execution_count": 38,
   "metadata": {},
   "outputs": [],
   "source": [
    "# clean the text by exclusing numbers and other characters using regular exoressions\n",
    "\n",
    "pattern = r\"[^\\d.'',]+\"\n",
    "text1 = re.findall(pattern, text)"
   ]
  },
  {
   "cell_type": "code",
   "execution_count": 48,
   "metadata": {},
   "outputs": [],
   "source": [
    "text1\n",
    "clean_text = \"\".join(text1)"
   ]
  },
  {
   "cell_type": "code",
   "execution_count": 50,
   "metadata": {},
   "outputs": [
    {
     "name": "stdout",
     "output_type": "stream",
     "text": [
      "IntroductiontoConvolutionalNeuralNetworksJianxinWuLAMDAGroupNationalKeyLabforNovelSoftwareTechnologyNanjingUniversityChinawujx@gmailcomMayContentsIntroductionPreliminariesTensorandvectorizationVectorcalculusandthechainruleCNNinanutshellThearchitectureTheforwardrunStochasticgradientdescent(SGD)ErrorbackpropagationLayerinputoutputandnotationsTheReLUlayerTheconvolutionlayerWhatisconvolution?Whytoconvolve?ConvolutionasmatrixproductTheKroneckerproductBackwardpropagation:updatetheparametersEvenhigherdimensionalindicatormatricesBackwardpropagation:preparesupervisionsignalfortheprevi-ouslayerFullyconnectedlayerasaconvolutionlayerThepoolinglayer\n"
     ]
    },
    {
     "data": {
      "text/plain": [
       "'IntroductiontoConvolutionalNeuralNetworksJianxinWuLAMDAGroupNationalKeyLabforNovelSoftwareTechnologyNanjingUniversityChinawujx@gmailcomMayContentsIntroductionPreliminariesTensorandvectorizationVectorcalculusandthechainruleCNNinanutshellThearchitectureTheforwardrunStochasticgradientdescent(SGD)ErrorbackpropagationLayerinputoutputandnotationsTheReLUlayerTheconvolutionlayerWhatisconvolution?Whytoconvolve?ConvolutionasmatrixproductTheKroneckerproductBackwardpropagation:updatetheparametersEvenhigherdimensionalindicatormatricesBackwardpropagation:preparesupervisionsignalfortheprevi-ouslayerFullyconnectedlayerasaconvolutionlayerThepoolinglayer'"
      ]
     },
     "execution_count": 50,
     "metadata": {},
     "output_type": "execute_result"
    }
   ],
   "source": [
    "print(clean_text)\n",
    "text2 = re.findall(r\"[^\\s{10,}]+\",clean_text)\n",
    "clean_text = \"\".join(text2)\n",
    "clean_text"
   ]
  },
  {
   "cell_type": "code",
   "execution_count": null,
   "metadata": {},
   "outputs": [],
   "source": []
  }
 ],
 "metadata": {
  "kernelspec": {
   "display_name": "Python 3",
   "language": "python",
   "name": "python3"
  },
  "language_info": {
   "codemirror_mode": {
    "name": "ipython",
    "version": 3
   },
   "file_extension": ".py",
   "mimetype": "text/x-python",
   "name": "python",
   "nbconvert_exporter": "python",
   "pygments_lexer": "ipython3",
   "version": "3.7.0"
  }
 },
 "nbformat": 4,
 "nbformat_minor": 2
}
